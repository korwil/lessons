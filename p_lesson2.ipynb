{
 "cells": [
  {
   "cell_type": "code",
   "execution_count": 1,
   "id": "radio-onion",
   "metadata": {},
   "outputs": [],
   "source": [
    "import numpy as np\n",
    "from math import factorial\n",
    "\n",
    "def combinations(n, k):\n",
    "    return int(factorial(n) / (factorial(k) * factorial(n - k)))\n",
    "\n",
    "def arrangements(n, k):\n",
    "    return int(factorial(n) / factorial(n - k))\n",
    "\n",
    "def permutations(n):\n",
    "    return int(factorial(n))"
   ]
  },
  {
   "cell_type": "code",
   "execution_count": 44,
   "id": "chinese-detector",
   "metadata": {},
   "outputs": [
    {
     "data": {
      "text/plain": [
       "0.048061793700746556"
      ]
     },
     "execution_count": 44,
     "metadata": {},
     "output_type": "execute_result"
    }
   ],
   "source": [
    "# 1. Вероятность того, что стрелок попадет в мишень, выстрелив один раз, равна 0.8. Стрелок выстрелил 100 раз. \n",
    "# Найдите вероятность того, что стрелок попадет в цель ровно 85 раз.\n",
    "\n",
    "combinations(100, 85)*(0.8**85)*(0.2**15) "
   ]
  },
  {
   "cell_type": "code",
   "execution_count": 49,
   "id": "figured-count",
   "metadata": {},
   "outputs": [
    {
     "data": {
      "text/plain": [
       "0.1353352832366127"
      ]
     },
     "execution_count": 49,
     "metadata": {},
     "output_type": "execute_result"
    }
   ],
   "source": [
    "# 2. Вероятность того, что лампочка перегорит в течение первого дня эксплуатации, равна 0.0004. \n",
    "# В жилом комплексе после ремонта в один день включили 5000 новых лампочек. \n",
    "# Какова вероятность, что ни одна из них не перегорит в первый день?\n",
    "\n",
    "n = 5000\n",
    "m = 0\n",
    "p = 0.0004\n",
    "lambda_ = n * p\n",
    "\n",
    "(lambda_**m / np.math.factorial(m)) * np.exp(-lambda_)"
   ]
  },
  {
   "cell_type": "code",
   "execution_count": 46,
   "id": "nonprofit-drama",
   "metadata": {},
   "outputs": [
    {
     "data": {
      "text/plain": [
       "0.2706705664732254"
      ]
     },
     "execution_count": 46,
     "metadata": {},
     "output_type": "execute_result"
    }
   ],
   "source": [
    "# Какова вероятность, что перегорят ровно две?\n",
    "n = 5000\n",
    "m = 2\n",
    "p = 0.0004\n",
    "lambda_ = n * p\n",
    "\n",
    "(lambda_**m / np.math.factorial(m)) * np.exp(-lambda_)"
   ]
  },
  {
   "cell_type": "code",
   "execution_count": 10,
   "id": "macro-martial",
   "metadata": {},
   "outputs": [
    {
     "data": {
      "text/plain": [
       "0.06281178035144776"
      ]
     },
     "execution_count": 10,
     "metadata": {},
     "output_type": "execute_result"
    }
   ],
   "source": [
    "# 3. Монету подбросили 144 раза. Какова вероятность, что орел выпадет ровно 70 раз?\n",
    "combinations(144, 70)*(0.5**70)*(0.5**74) "
   ]
  },
  {
   "cell_type": "code",
   "execution_count": 32,
   "id": "mexican-sharp",
   "metadata": {},
   "outputs": [
    {
     "data": {
      "text/plain": [
       "0.3054545454545455"
      ]
     },
     "execution_count": 32,
     "metadata": {},
     "output_type": "execute_result"
    }
   ],
   "source": [
    "# 4. В первом ящике находится 10 мячей, из которых 7 - белые. Во втором ящике - 11 мячей, из которых 9 белых. \n",
    "# Из каждого ящика вытаскивают случайным образом по два мяча. \n",
    "# Какова вероятность того, что все мячи белые?\n",
    "combinations(7, 2)/combinations(10, 2) * combinations(9, 2)/combinations(11, 2)\n"
   ]
  },
  {
   "cell_type": "code",
   "execution_count": 26,
   "id": "minimal-lease",
   "metadata": {},
   "outputs": [
    {
     "data": {
      "text/plain": [
       "0.3054545454545454"
      ]
     },
     "execution_count": 26,
     "metadata": {},
     "output_type": "execute_result"
    }
   ],
   "source": [
    "# Какова вероятность того, что все мячи белые? \n",
    "7/10*6/9*9/11*8/10"
   ]
  },
  {
   "cell_type": "code",
   "execution_count": 37,
   "id": "recent-grade",
   "metadata": {},
   "outputs": [
    {
     "data": {
      "text/plain": [
       "0.20484848484848484"
      ]
     },
     "execution_count": 37,
     "metadata": {},
     "output_type": "execute_result"
    }
   ],
   "source": [
    "# Какова вероятность того, что ровно два мяча белые?\n",
    "P1 = (7/10)*(6/9)*(2/11)*(1/10) # 2 белые из первого ящика 2 черных из второго\n",
    "P2 = (7/10)*(3/9)*(9/11)*(2/10) # 1 белый и черный из первого ящика и 1 белый и черный из второго\n",
    "P3 = (7/10)*(3/9)*(2/11)*(9/10) # 1 белый и черный из первого ящика и 1 черный и белый из второго\n",
    "P4 = (3/10)*(7/9)*(9/11)*(2/10) # 1 черный и белый из первого ящика и 1 белый и черный из второго\n",
    "P5 = (3/10)*(7/9)*(2/11)*(9/10) # 1 черный и белый из первого ящика и 1 черный и белый из второго\n",
    "P6 = (3/10)*(2/9)*(9/11)*(8/10) # 2 черные из первого ящика 2 белые из второго\n",
    "\n",
    "P1+P2+P3+P4+P5+P6"
   ]
  },
  {
   "cell_type": "code",
   "execution_count": 27,
   "id": "further-person",
   "metadata": {},
   "outputs": [
    {
     "data": {
      "text/plain": [
       "0.9987878787878788"
      ]
     },
     "execution_count": 27,
     "metadata": {},
     "output_type": "execute_result"
    }
   ],
   "source": [
    "# Какова вероятность того, что хотя бы один мяч белый?\n",
    "P = combinations(3, 2)/combinations(10, 2) * combinations(2, 2)/combinations(11, 2) # вероятность что все черные\n",
    "1-P"
   ]
  },
  {
   "cell_type": "code",
   "execution_count": null,
   "id": "republican-douglas",
   "metadata": {},
   "outputs": [],
   "source": []
  },
  {
   "cell_type": "code",
   "execution_count": null,
   "id": "accepting-access",
   "metadata": {},
   "outputs": [],
   "source": []
  }
 ],
 "metadata": {
  "kernelspec": {
   "display_name": "Python 3",
   "language": "python",
   "name": "python3"
  },
  "language_info": {
   "codemirror_mode": {
    "name": "ipython",
    "version": 3
   },
   "file_extension": ".py",
   "mimetype": "text/x-python",
   "name": "python",
   "nbconvert_exporter": "python",
   "pygments_lexer": "ipython3",
   "version": "3.6.13"
  }
 },
 "nbformat": 4,
 "nbformat_minor": 5
}
