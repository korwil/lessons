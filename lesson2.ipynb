{
 "cells": [
  {
   "cell_type": "code",
   "execution_count": 1,
   "metadata": {},
   "outputs": [],
   "source": [
    "import numpy as np"
   ]
  },
  {
   "cell_type": "code",
   "execution_count": 2,
   "metadata": {},
   "outputs": [],
   "source": [
    "def sum(a, b, i):\n",
    "    value = 0\n",
    "    for j, g in enumerate(a, start=0):\n",
    "        value += g * b[j][i]\n",
    "    return value\n",
    "\n",
    "def multy(a, b):\n",
    "    column = []\n",
    "\n",
    "    for i, k in enumerate(a, start=0):\n",
    "        if len(a[i]) != len(b):\n",
    "            raise Exception('Невозможно перемножить матрицу')\n",
    "        line = []\n",
    "        for j in range(len(b[i])):\n",
    "            value = sum(a[i], b, j)\n",
    "            line.append(value)\n",
    "        column.append(line)\n",
    "    return column"
   ]
  },
  {
   "cell_type": "code",
   "execution_count": 4,
   "metadata": {},
   "outputs": [
    {
     "name": "stdout",
     "output_type": "stream",
     "text": [
      "Матрица AB\n",
      " [[45, 0], [0, 14]]\n",
      "Матрица AB numpy\n",
      "[[45  0]\n",
      " [ 0 14]]\n"
     ]
    }
   ],
   "source": [
    "a = np.array([[4, 5, 2], [1, -2, 3]])\n",
    "b = np.array([[4, 1], [5, -2], [2, 3]])\n",
    "print(f'Матрица AB\\n {multy(a, b)}')\n",
    "print(f'Матрица AB numpy\\n{np.dot(a, b)}')"
   ]
  },
  {
   "cell_type": "code",
   "execution_count": 5,
   "metadata": {},
   "outputs": [
    {
     "name": "stdout",
     "output_type": "stream",
     "text": [
      "Матрица AB\n",
      " [[45, 8, 57, 45], [0, 16, 18, 13]]\n",
      "Матрица AB numpy\n",
      "[[45  8 57 45]\n",
      " [ 0 16 18 13]]\n"
     ]
    }
   ],
   "source": [
    "a = np.array([[4, 5, 2], [1, -2, 3]])\n",
    "b = np.array([[4, 3, 4, 9], [5, -2, 5, 1], [2, 3, 8, 2]])\n",
    "print(f'Матрица AB\\n {multy(a, b)}')\n",
    "print(f'Матрица AB numpy\\n{np.dot(a, b)}')"
   ]
  },
  {
   "cell_type": "code",
   "execution_count": null,
   "metadata": {},
   "outputs": [],
   "source": []
  }
 ],
 "metadata": {
  "kernelspec": {
   "display_name": "Python 3",
   "language": "python",
   "name": "python3"
  },
  "language_info": {
   "codemirror_mode": {
    "name": "ipython",
    "version": 3
   },
   "file_extension": ".py",
   "mimetype": "text/x-python",
   "name": "python",
   "nbconvert_exporter": "python",
   "pygments_lexer": "ipython3",
   "version": "3.6.11"
  }
 },
 "nbformat": 4,
 "nbformat_minor": 4
}
