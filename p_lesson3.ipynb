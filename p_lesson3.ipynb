{
 "cells": [
  {
   "cell_type": "code",
   "execution_count": 18,
   "id": "presidential-civilization",
   "metadata": {},
   "outputs": [],
   "source": [
    "import numpy as np\n",
    "import pandas as pd\n",
    "import matplotlib.pyplot as plt\n",
    "from math import factorial\n",
    "\n",
    "def combinations(n, k):\n",
    "    return int(factorial(n) / (factorial(k) * factorial(n - k)))"
   ]
  },
  {
   "cell_type": "code",
   "execution_count": 16,
   "id": "ranking-diesel",
   "metadata": {},
   "outputs": [
    {
     "name": "stdout",
     "output_type": "stream",
     "text": [
      "среднее арифметическое: 65.3\n",
      "среднее квадратичное отклонение: смещенное = 30.823854398825596, несмещенное = 31.624607341019814\n",
      "Оценка дисперсий: смещенная = 950.11, несмещенная = 1000.1157894736842\n"
     ]
    }
   ],
   "source": [
    "# 1. Даны значения зарплат из выборки выпускников: \n",
    "# 100, 80, 75, 77, 89, 33, 45, 25, 65, 17, 30, 24, 57, 55, 70, 75, 65, 84, 90, 150. \n",
    "# Посчитать (желательно без использования статистических методов наподобие std, var, mean) среднее арифметическое, \n",
    "# среднее квадратичное отклонение, смещенную и несмещенную оценки дисперсий для данной выборки.\n",
    "salary = [100, 80, 75, 77, 89, 33, 45, 25, 65, 17, 30, 24, 57, 55, 70, 75, 65, 84, 90, 150]\n",
    "\n",
    "print(f'среднее арифметическое: {sum(salary)/len(salary)}')\n",
    "\n",
    "print(f'среднее квадратичное отклонение: смещенное = {np.std(salary)}, несмещенное = {np.std(salary, ddof=1)}')\n",
    "\n",
    "print(f'Оценка дисперсий: смещенная = {np.var(salary)}, несмещенная = {np.var(salary, ddof=1)}')\n"
   ]
  },
  {
   "cell_type": "code",
   "execution_count": 19,
   "id": "north-prairie",
   "metadata": {},
   "outputs": [
    {
     "data": {
      "text/plain": [
       "0.3686868686868687"
      ]
     },
     "execution_count": 19,
     "metadata": {},
     "output_type": "execute_result"
    }
   ],
   "source": [
    "# 2. В первом ящике находится 8 мячей, из которых 5 - белые. \n",
    "# Во втором ящике - 12 мячей, из которых 5 белых. \n",
    "# Из первого ящика вытаскивают случайным образом два мяча, из второго - 4. \n",
    "# Какова вероятность того, что 3 мяча белые?\n",
    "\n",
    "P1 = combinations(5, 2)/combinations(8, 2)*(combinations(5, 1)*combinations(7, 3))/combinations(12, 4) # 2 из первой и 1 из второй\n",
    "P2 = (combinations(5, 1)*combinations(3, 1))/combinations(8, 2)*(combinations(5, 2)*combinations(7, 2))/combinations(12, 4) # 1 из первой и 2 из второй\n",
    "P3 = combinations(3, 2)/combinations(8, 2)*(combinations(5, 3)*combinations(7, 1))/combinations(12, 4) # 0 из первой и 3 из второй\n",
    "P1+P2+P3"
   ]
  },
  {
   "cell_type": "code",
   "execution_count": 20,
   "id": "informational-hours",
   "metadata": {},
   "outputs": [
    {
     "name": "stdout",
     "output_type": "stream",
     "text": [
      "первым спортсменом: 0.391304347826087\n",
      "вторым спортсменом: 0.3478260869565218\n",
      "третьим спортсменом: 0.2608695652173913\n"
     ]
    }
   ],
   "source": [
    "# 3. На соревновании по биатлону один из трех спортсменов стреляет и попадает в мишень. \n",
    "# Вероятность попадания для первого спортсмена равна 0.9, для второго — 0.8, для третьего — 0.6. \n",
    "# Найти вероятность того, что выстрел произведен: a). первым спортсменом б). вторым спортсменом в). третьим спортсменом.\n",
    "\n",
    "P = 1/3*0.9 + 1/3*0.8 + 1/3*0.6\n",
    "print(f'первым спортсменом: {(1/3*0.9)/P}')\n",
    "print(f'вторым спортсменом: {(1/3*0.8)/P}')\n",
    "print(f'третьим спортсменом: {(1/3*0.6)/P}')"
   ]
  },
  {
   "cell_type": "code",
   "execution_count": 21,
   "id": "abroad-threat",
   "metadata": {},
   "outputs": [
    {
     "name": "stdout",
     "output_type": "stream",
     "text": [
      "на факультете A: 0.24242424242424246\n",
      "на факультете B: 0.21212121212121213\n",
      "на факультете C: 0.5454545454545455\n"
     ]
    }
   ],
   "source": [
    "# 4. В университет на факультеты A и B поступило равное количество студентов, \n",
    "# а на факультет C студентов поступило столько же, сколько на A и B вместе. \n",
    "# Вероятность того, что студент факультета A сдаст первую сессию, равна 0.8. \n",
    "# Для студента факультета B эта вероятность равна 0.7, а для студента факультета C - 0.9. \n",
    "# Студент сдал первую сессию. Какова вероятность, что он учится: a). на факультете A б). на факультете B в). на факультете C?\n",
    "\n",
    "P = 1/4*0.8+1/4*0.7+1/2*0.9\n",
    "print(f'на факультете A: {(1/4*0.8)/P}')\n",
    "print(f'на факультете B: {(1/4*0.7)/P}')\n",
    "print(f'на факультете C: {(1/2*0.9)/P}')\n"
   ]
  },
  {
   "cell_type": "code",
   "execution_count": 1,
   "id": "minute-handling",
   "metadata": {},
   "outputs": [
    {
     "name": "stdout",
     "output_type": "stream",
     "text": [
      "все детали: 0.005000000000000001\n",
      "только две детали: -\n",
      "хотя бы одна деталь: -\n",
      "от одной до двух деталей: -\n"
     ]
    }
   ],
   "source": [
    "# 5. Устройство состоит из трех деталей. Для первой детали вероятность выйти из строя в первый месяц равна 0.1, \n",
    "# для второй - 0.2, для третьей - 0.25. Какова вероятность того, что в первый месяц выйдут из строя: \n",
    "# а). все детали б). только две детали в). хотя бы одна деталь г). от одной до двух деталей?\n",
    "\n",
    "\n",
    "print(f'все детали: {0.1*0.2*0.25}')\n",
    "print(f'только две детали: -')\n",
    "print(f'хотя бы одна деталь: -')\n",
    "print(f'от одной до двух деталей: -')"
   ]
  },
  {
   "cell_type": "code",
   "execution_count": null,
   "id": "promising-combining",
   "metadata": {},
   "outputs": [],
   "source": []
  }
 ],
 "metadata": {
  "kernelspec": {
   "display_name": "Python 3",
   "language": "python",
   "name": "python3"
  },
  "language_info": {
   "codemirror_mode": {
    "name": "ipython",
    "version": 3
   },
   "file_extension": ".py",
   "mimetype": "text/x-python",
   "name": "python",
   "nbconvert_exporter": "python",
   "pygments_lexer": "ipython3",
   "version": "3.6.13"
  }
 },
 "nbformat": 4,
 "nbformat_minor": 5
}
