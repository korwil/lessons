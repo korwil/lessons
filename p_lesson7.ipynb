{
 "cells": [
  {
   "cell_type": "code",
   "execution_count": 1,
   "id": "about-healing",
   "metadata": {},
   "outputs": [],
   "source": [
    "import numpy as np\n",
    "from sklearn.linear_model import LinearRegression"
   ]
  },
  {
   "cell_type": "code",
   "execution_count": 2,
   "id": "annual-carry",
   "metadata": {},
   "outputs": [
    {
     "data": {
      "text/plain": [
       "2.620538882402765"
      ]
     },
     "execution_count": 2,
     "metadata": {},
     "output_type": "execute_result"
    }
   ],
   "source": [
    "# 1. Даны значения величины заработной платы заемщиков банка (zp) и значения их поведенческого кредитного скоринга \n",
    "# (ks): zp = [35, 45, 190, 200, 40, 70, 54, 150, 120, 110], \n",
    "# ks = [401, 574, 874, 919, 459, 739, 653, 902, 746, 832]. \n",
    "# Используя математические операции, посчитать коэффициенты линейной регрессии, \n",
    "# приняв за X заработную плату (то есть, zp - признак), а за y - значения скорингового балла (то есть, ks - целевая переменная).\n",
    "# Произвести расчет как с использованием intercept, так и без.\n",
    "\n",
    "\n",
    "\n",
    "x = np.array([35, 45, 190, 200, 40, 70, 54, 150, 120, 110])\n",
    "y = np.array([401, 574, 874, 919, 459, 739, 653, 902, 746, 832])\n",
    "\n",
    "b = (np.mean(x * y) - np.mean(x) * np.mean(y)) / (np.mean(x**2) - np.mean(x) ** 2)\n",
    "b"
   ]
  },
  {
   "cell_type": "code",
   "execution_count": 3,
   "id": "secure-tracker",
   "metadata": {},
   "outputs": [
    {
     "data": {
      "text/plain": [
       "444.1773573243596"
      ]
     },
     "execution_count": 3,
     "metadata": {},
     "output_type": "execute_result"
    }
   ],
   "source": [
    "a = np.mean(y) - b * np.mean(x)\n",
    "a"
   ]
  },
  {
   "cell_type": "code",
   "execution_count": 4,
   "id": "herbal-municipality",
   "metadata": {},
   "outputs": [
    {
     "data": {
      "text/plain": [
       "array([535.89621821, 562.10160703, 942.07974498, 968.2851338 ,\n",
       "       548.99891262, 627.61507909, 585.68645697, 837.25818968,\n",
       "       758.64202321, 732.43663439])"
      ]
     },
     "execution_count": 4,
     "metadata": {},
     "output_type": "execute_result"
    }
   ],
   "source": [
    "y_hat = a + b * x\n",
    "y_hat"
   ]
  },
  {
   "cell_type": "code",
   "execution_count": 5,
   "id": "collectible-participation",
   "metadata": {},
   "outputs": [
    {
     "name": "stdout",
     "output_type": "stream",
     "text": [
      "coefficient of determination: 0.7876386635293685\n",
      "a (intercept): 444.1773573243595\n",
      "b (slope): [2.62053888]\n"
     ]
    }
   ],
   "source": [
    "# \n",
    "model = LinearRegression()\n",
    "model.fit(x.reshape((-1, 1)), y)\n",
    "\n",
    "r_sq = model.score(x.reshape((-1, 1)), y)\n",
    "print('coefficient of determination:', r_sq)\n",
    "print('a (intercept):', model.intercept_)\n",
    "print('b (slope):', model.coef_)"
   ]
  },
  {
   "cell_type": "code",
   "execution_count": 6,
   "id": "known-trash",
   "metadata": {},
   "outputs": [
    {
     "data": {
      "text/plain": [
       "array([[  1.,  35.],\n",
       "       [  1.,  45.],\n",
       "       [  1., 190.],\n",
       "       [  1., 200.],\n",
       "       [  1.,  40.],\n",
       "       [  1.,  70.],\n",
       "       [  1.,  54.],\n",
       "       [  1., 150.],\n",
       "       [  1., 120.],\n",
       "       [  1., 110.]])"
      ]
     },
     "execution_count": 6,
     "metadata": {},
     "output_type": "execute_result"
    }
   ],
   "source": [
    "# Матричный метод\n",
    "X = x.reshape((-1, 1))\n",
    "Y = y.reshape((-1, 1))\n",
    "\n",
    "X = np.hstack([np.ones((len(X), 1)), X])\n",
    "X"
   ]
  },
  {
   "cell_type": "code",
   "execution_count": 7,
   "id": "danish-saturn",
   "metadata": {},
   "outputs": [
    {
     "data": {
      "text/plain": [
       "array([[444.17735732],\n",
       "       [  2.62053888]])"
      ]
     },
     "execution_count": 7,
     "metadata": {},
     "output_type": "execute_result"
    }
   ],
   "source": [
    "B = np.dot(np.linalg.inv(np.dot(X.T, X)), X.T@Y)\n",
    "B"
   ]
  },
  {
   "cell_type": "code",
   "execution_count": 17,
   "id": "advance-jewel",
   "metadata": {},
   "outputs": [],
   "source": [
    "# 2. Посчитать коэффициент линейной регрессии при заработной плате (zp), используя градиентный спуск (без intercept). \n",
    "\n",
    "def mse(B1, y=y, x=x):\n",
    "    return np.sum((B1*x-y)**2/len(x))"
   ]
  },
  {
   "cell_type": "code",
   "execution_count": 18,
   "id": "variable-subsection",
   "metadata": {},
   "outputs": [
    {
     "name": "stdout",
     "output_type": "stream",
     "text": [
      "iteration 0; B1=1.6952808000000004, MSE=298904.5992334053\n",
      "iteration 500; B1=5.889820420132688, MSE=56516.85841571941\n",
      "iteration 1000; B1=5.889820420132688, MSE=56516.85841571941\n",
      "iteration 1500; B1=5.889820420132688, MSE=56516.85841571941\n",
      "iteration 2000; B1=5.889820420132688, MSE=56516.85841571941\n",
      "iteration 2500; B1=5.889820420132688, MSE=56516.85841571941\n"
     ]
    }
   ],
   "source": [
    "B1 = 0.1\n",
    "alfa = 1e-5\n",
    "\n",
    "for i in range(3000):\n",
    "    B1 -= alfa*(2/len(x))*np.sum((B1*x-y)*x)\n",
    "    if i%500 == 0:\n",
    "        print(f'iteration {i}; B1={B1}, MSE={mse(B1)}')"
   ]
  },
  {
   "cell_type": "code",
   "execution_count": null,
   "id": "spiritual-portsmouth",
   "metadata": {},
   "outputs": [],
   "source": []
  }
 ],
 "metadata": {
  "kernelspec": {
   "display_name": "Python 3",
   "language": "python",
   "name": "python3"
  },
  "language_info": {
   "codemirror_mode": {
    "name": "ipython",
    "version": 3
   },
   "file_extension": ".py",
   "mimetype": "text/x-python",
   "name": "python",
   "nbconvert_exporter": "python",
   "pygments_lexer": "ipython3",
   "version": "3.6.13"
  }
 },
 "nbformat": 4,
 "nbformat_minor": 5
}
