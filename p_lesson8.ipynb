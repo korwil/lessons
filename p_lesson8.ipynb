{
 "cells": [
  {
   "cell_type": "code",
   "execution_count": 10,
   "id": "understanding-marathon",
   "metadata": {},
   "outputs": [],
   "source": [
    "import numpy as np\n",
    "\n",
    "# Провести дисперсионный анализ для определения того, есть ли различия среднего роста среди взрослых футболистов, \n",
    "# хоккеистов и штангистов. Даны значения роста в трех группах случайно выбранных спортсменов: \n",
    "# Футболисты: 173, 175, 180, 178, 177, 185, 183, 182. \n",
    "# Хоккеисты: 177, 179, 180, 188, 177, 172, 171, 184, 180. \n",
    "# Штангисты: 172, 173, 169, 177, 166, 180, 178, 177, 172, 166, 170.\n",
    "\n",
    "f = np.array([173, 175, 180, 178, 177, 185, 183, 182])\n",
    "h = np.array([177, 179, 180, 188, 177, 172, 171, 184, 180])\n",
    "w = np.array([172, 173, 169, 177, 166, 180, 178, 177, 172, 166, 170])"
   ]
  },
  {
   "cell_type": "code",
   "execution_count": 11,
   "id": "august-latest",
   "metadata": {},
   "outputs": [
    {
     "name": "stdout",
     "output_type": "stream",
     "text": [
      "Средний рост Футболистов: 179.125\n",
      "Средний рост Хоккеистов: 178.66666666666666\n",
      "Средний рост Штангистов: 172.72727272727272\n"
     ]
    }
   ],
   "source": [
    "# Среднее значение\n",
    "print(f'Средний рост Футболистов: {f.mean()}')\n",
    "print(f'Средний рост Хоккеистов: {h.mean()}')\n",
    "print(f'Средний рост Штангистов: {w.mean()}')"
   ]
  },
  {
   "cell_type": "code",
   "execution_count": 12,
   "id": "rotary-heart",
   "metadata": {},
   "outputs": [
    {
     "name": "stdout",
     "output_type": "stream",
     "text": [
      "Средний рост спортсменов: 176.46428571428572\n"
     ]
    }
   ],
   "source": [
    "# Среднее по всем значениям\n",
    "all_hight = np.hstack((f,h, w))\n",
    "all_mean = all_hight.mean()\n",
    "print(f'Средний рост спортсменов: {all_mean}')"
   ]
  },
  {
   "cell_type": "code",
   "execution_count": 13,
   "id": "fifty-federation",
   "metadata": {},
   "outputs": [
    {
     "name": "stdout",
     "output_type": "stream",
     "text": [
      "Сумма квадратов отклонения: 830.9642857142854\n"
     ]
    }
   ],
   "source": [
    "# Сумма квадратов отклонения\n",
    "s2 = np.sum((all_hight - all_mean) ** 2)\n",
    "print(f'Сумма квадратов отклонения: {s2}')"
   ]
  },
  {
   "cell_type": "code",
   "execution_count": 14,
   "id": "focused-jesus",
   "metadata": {},
   "outputs": [
    {
     "name": "stdout",
     "output_type": "stream",
     "text": [
      "Сумма квадратов отклонения средних групповых значений: 253.9074675324678\n"
     ]
    }
   ],
   "source": [
    "# Сумма квадратов отклонения средних групповых значений\n",
    "s2f = np.sum((f.mean() - all_mean) ** 2 * len(f) + (h.mean() - all_mean) ** 2 * len(h) + (w.mean() - all_mean) ** 2 * len(w))\n",
    "print(f'Сумма квадратов отклонения средних групповых значений: {s2f}')"
   ]
  },
  {
   "cell_type": "code",
   "execution_count": 15,
   "id": "alert-competition",
   "metadata": {},
   "outputs": [
    {
     "name": "stdout",
     "output_type": "stream",
     "text": [
      "Сумма квадратов отклонения средних групповых значений: 577.0568181818182\n"
     ]
    }
   ],
   "source": [
    "# Остаточная сумма квадратов отклонения\n",
    "ost_s2 = np.sum((f - f.mean()) ** 2) + np.sum((h - h.mean()) ** 2) + np.sum((w - w.mean()) ** 2)\n",
    "print(f'Сумма квадратов отклонения средних групповых значений: {ost_s2}')"
   ]
  },
  {
   "cell_type": "code",
   "execution_count": 16,
   "id": "atlantic-quarter",
   "metadata": {},
   "outputs": [
    {
     "name": "stdout",
     "output_type": "stream",
     "text": [
      "830.9642857142854(S2) == 830.964285714286(s2f + ost_s2)\n"
     ]
    }
   ],
   "source": [
    "print(f'{s2}(S2) == {s2f + ost_s2}(s2f + ost_s2)')"
   ]
  },
  {
   "cell_type": "code",
   "execution_count": 20,
   "id": "governmental-third",
   "metadata": {},
   "outputs": [
    {
     "name": "stdout",
     "output_type": "stream",
     "text": [
      "Факторная дисперсия: 126.9537337662339\n",
      "Остаточная дисперсия: 23.08227272727273\n"
     ]
    }
   ],
   "source": [
    "# дисперсия:\n",
    "s2f_d = s2f/2\n",
    "ost_s2_d = ost_s2/(len(all_hight) - 3)\n",
    "print(f'Факторная дисперсия: {s2f_d}')\n",
    "print(f'Остаточная дисперсия: {ost_s2_d}')"
   ]
  },
  {
   "cell_type": "code",
   "execution_count": 21,
   "id": "double-screening",
   "metadata": {},
   "outputs": [
    {
     "name": "stdout",
     "output_type": "stream",
     "text": [
      "Расчетный: 5.500053450812598\n"
     ]
    }
   ],
   "source": [
    "F_h = s2f_d / ost_s2_d\n",
    "print(f'Расчетный: {F_h}')"
   ]
  },
  {
   "cell_type": "code",
   "execution_count": 23,
   "id": "spare-improvement",
   "metadata": {},
   "outputs": [
    {
     "name": "stdout",
     "output_type": "stream",
     "text": [
      "d_f_m = 2, d_f_c = 25\n"
     ]
    }
   ],
   "source": [
    "# Ищем критическое:\n",
    "alpha = 0.05\n",
    "d_f_m = 3 - 1\n",
    "d_f_c = len(all_hight) - 3\n",
    "print(f'd_f_m = {d_f_m}, d_f_c = {d_f_c}')"
   ]
  },
  {
   "cell_type": "code",
   "execution_count": 25,
   "id": "passing-dominican",
   "metadata": {},
   "outputs": [
    {
     "data": {
      "text/plain": [
       "True"
      ]
     },
     "execution_count": 25,
     "metadata": {},
     "output_type": "execute_result"
    }
   ],
   "source": [
    "F_kr = 3.4928\n",
    "F_h > F_kr"
   ]
  },
  {
   "cell_type": "markdown",
   "id": "persistent-youth",
   "metadata": {},
   "source": [
    "Ответ: Следовательно, различие между выборками - статистически значимое (Верна теория H1)"
   ]
  },
  {
   "cell_type": "code",
   "execution_count": null,
   "id": "radical-compact",
   "metadata": {},
   "outputs": [],
   "source": []
  }
 ],
 "metadata": {
  "kernelspec": {
   "display_name": "Python 3",
   "language": "python",
   "name": "python3"
  },
  "language_info": {
   "codemirror_mode": {
    "name": "ipython",
    "version": 3
   },
   "file_extension": ".py",
   "mimetype": "text/x-python",
   "name": "python",
   "nbconvert_exporter": "python",
   "pygments_lexer": "ipython3",
   "version": "3.6.13"
  }
 },
 "nbformat": 4,
 "nbformat_minor": 5
}
