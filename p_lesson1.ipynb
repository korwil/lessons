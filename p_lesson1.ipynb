{
 "cells": [
  {
   "cell_type": "code",
   "execution_count": 31,
   "id": "apart-thirty",
   "metadata": {},
   "outputs": [],
   "source": [
    "import numpy as np\n",
    "from math import factorial\n",
    "\n",
    "def combinations(n, k):\n",
    "    return int(factorial(n) / (factorial(k) * factorial(n - k)))\n",
    "\n",
    "def arrangements(n, k):\n",
    "    return int(factorial(n) / factorial(n - k))\n",
    "\n",
    "def permutations(n):\n",
    "    return int(factorial(n))"
   ]
  },
  {
   "cell_type": "markdown",
   "id": "japanese-rescue",
   "metadata": {},
   "source": [
    "1. Из колоды в 52 карты извлекаются случайным образом 4 карты. \n",
    "a) Найти вероятность того, что все карты – крести. \n",
    "б) Найти вероятность, что среди 4-х карт окажется хотя бы один туз."
   ]
  },
  {
   "cell_type": "code",
   "execution_count": 26,
   "id": "becoming-merchandise",
   "metadata": {},
   "outputs": [
    {
     "data": {
      "text/plain": [
       "0.0026410564225690276"
      ]
     },
     "execution_count": 26,
     "metadata": {},
     "output_type": "execute_result"
    }
   ],
   "source": [
    "# a) Найти вероятность того, что все карты – крести. \n",
    "combinations(13, 4)/combinations(52, 4)"
   ]
  },
  {
   "cell_type": "code",
   "execution_count": 27,
   "id": "starting-printing",
   "metadata": {},
   "outputs": [
    {
     "data": {
      "text/plain": [
       "0.2812632745405854"
      ]
     },
     "execution_count": 27,
     "metadata": {},
     "output_type": "execute_result"
    }
   ],
   "source": [
    "# б) Найти вероятность, что среди 4-х карт окажется хотя бы один туз.\n",
    "1 - combinations(48, 4)/combinations(52, 4)"
   ]
  },
  {
   "cell_type": "code",
   "execution_count": 30,
   "id": "coordinate-outreach",
   "metadata": {},
   "outputs": [
    {
     "data": {
      "text/plain": [
       "0.2812632745405855"
      ]
     },
     "execution_count": 30,
     "metadata": {},
     "output_type": "execute_result"
    }
   ],
   "source": [
    "# б) Найти вероятность, что среди 4-х карт окажется хотя бы один туз.\n",
    "# альтернативное решение\n",
    "p1 = combinations(4, 1)*combinations(48, 3)/combinations(52, 4)\n",
    "p2 = combinations(4, 2)*combinations(48, 2)/combinations(52, 4)\n",
    "p3 = combinations(4, 3)*combinations(48, 1)/combinations(52, 4)\n",
    "p4 = combinations(4, 4)*combinations(48, 0)/combinations(52, 4)\n",
    "p1 + p2 + p3 + p4"
   ]
  },
  {
   "cell_type": "code",
   "execution_count": 33,
   "id": "automatic-insider",
   "metadata": {},
   "outputs": [
    {
     "data": {
      "text/plain": [
       "0.008333333333333333"
      ]
     },
     "execution_count": 33,
     "metadata": {},
     "output_type": "execute_result"
    }
   ],
   "source": [
    "# 2. На входной двери подъезда установлен кодовый замок, содержащий десять кнопок с цифрами от 0 до 9. \n",
    "# Код содержит три цифры, которые нужно нажать одновременно. \n",
    "# Какова вероятность того, что человек, не знающий код, откроет дверь с первой попытки?\n",
    "\n",
    "1/combinations(10, 3)"
   ]
  },
  {
   "cell_type": "code",
   "execution_count": 37,
   "id": "swiss-chest",
   "metadata": {},
   "outputs": [
    {
     "data": {
      "text/plain": [
       "0.18461538461538463"
      ]
     },
     "execution_count": 37,
     "metadata": {},
     "output_type": "execute_result"
    }
   ],
   "source": [
    "# 3. В ящике имеется 15 деталей, из которых 9 окрашены. Рабочий случайным образом извлекает 3 детали. \n",
    "# Какова вероятность того, что все извлеченные детали окрашены?\n",
    "\n",
    "combinations(9, 3)/combinations(15, 3)"
   ]
  },
  {
   "cell_type": "code",
   "execution_count": 39,
   "id": "prompt-courtesy",
   "metadata": {},
   "outputs": [
    {
     "data": {
      "text/plain": [
       "0.18461538461538457"
      ]
     },
     "execution_count": 39,
     "metadata": {},
     "output_type": "execute_result"
    }
   ],
   "source": [
    "# 3. В ящике имеется 15 деталей, из которых 9 окрашены. Рабочий случайным образом извлекает 3 детали. \n",
    "# Какова вероятность того, что все извлеченные детали окрашены?\n",
    "# альтернативное решение\n",
    "p1 =  9/15 # вероятность что первый - окрашен\n",
    "p2 = 8/14 # второй окрашен\n",
    "p3 = 7/13 # третий окрашен\n",
    "p1*p2*p3"
   ]
  },
  {
   "cell_type": "code",
   "execution_count": 40,
   "id": "large-change",
   "metadata": {},
   "outputs": [
    {
     "data": {
      "text/plain": [
       "0.00020202020202020205"
      ]
     },
     "execution_count": 40,
     "metadata": {},
     "output_type": "execute_result"
    }
   ],
   "source": [
    "# В лотерее 100 билетов. Из них 2 выигрышных. Какова вероятность того, что 2 приобретенных билета окажутся выигрышными?\n",
    "p1 = 2/100\n",
    "p2 = 1/99\n",
    "p1*p2"
   ]
  },
  {
   "cell_type": "code",
   "execution_count": 42,
   "id": "cooked-patient",
   "metadata": {},
   "outputs": [
    {
     "data": {
      "text/plain": [
       "0.00020202020202020202"
      ]
     },
     "execution_count": 42,
     "metadata": {},
     "output_type": "execute_result"
    }
   ],
   "source": [
    "# В лотерее 100 билетов. Из них 2 выигрышных. Какова вероятность того, что 2 приобретенных билета окажутся выигрышными?\n",
    "# альтернативное решение\n",
    "combinations(2, 2)/combinations(100, 2)"
   ]
  },
  {
   "cell_type": "code",
   "execution_count": null,
   "id": "adolescent-elder",
   "metadata": {},
   "outputs": [],
   "source": []
  }
 ],
 "metadata": {
  "kernelspec": {
   "display_name": "Python 3",
   "language": "python",
   "name": "python3"
  },
  "language_info": {
   "codemirror_mode": {
    "name": "ipython",
    "version": 3
   },
   "file_extension": ".py",
   "mimetype": "text/x-python",
   "name": "python",
   "nbconvert_exporter": "python",
   "pygments_lexer": "ipython3",
   "version": "3.6.13"
  }
 },
 "nbformat": 4,
 "nbformat_minor": 5
}
