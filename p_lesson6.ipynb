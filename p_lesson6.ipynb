{
 "cells": [
  {
   "cell_type": "code",
   "execution_count": 1,
   "id": "regulated-politics",
   "metadata": {},
   "outputs": [],
   "source": [
    "import numpy as np"
   ]
  },
  {
   "cell_type": "code",
   "execution_count": 12,
   "id": "metropolitan-tribune",
   "metadata": {},
   "outputs": [
    {
     "name": "stdout",
     "output_type": "stream",
     "text": [
      "cov = 9157.839999999997\n",
      "np.cov = [[ 3494.64  9157.84]\n",
      " [ 9157.84 30468.89]]\n",
      "np.cov несмещенная = [[ 3882.93333333 10175.37777778]\n",
      " [10175.37777778 33854.32222222]]\n"
     ]
    }
   ],
   "source": [
    "# 1. Даны значения величины заработной платы заемщиков банка (zp) и значения их поведенческого кредитного скоринга (ks):\n",
    "# zp = [35, 45, 190, 200, 40, 70, 54, 150, 120, 110],\n",
    "# ks = [401, 574, 874, 919, 459, 739, 653, 902, 746, 832].\n",
    "# Найдите ковариацию этих двух величин с помощью элементарных действий, а затем с помощью функции cov из numpy\n",
    "# Полученные значения должны быть равны.\n",
    "# Найдите коэффициент корреляции Пирсона с помощью ковариации и среднеквадратичных отклонений двух признаков,\n",
    "# а затем с использованием функций из библиотек numpy и pandas.\n",
    "\n",
    "zp = np.array([35, 45, 190, 200, 40, 70, 54, 150, 120, 110])\n",
    "ks = np.array([401, 574, 874, 919, 459, 739, 653, 902, 746, 832])\n",
    "\n",
    "cov = np.mean(zp*ks) - np.mean(zp)*np.mean(ks)\n",
    "print(f'cov = {cov}')\n",
    "print(f'np.cov = {np.cov(zp, ks, ddof=0)}')\n",
    "print(f'np.cov несмещенная = {np.cov(zp, ks, ddof=1)}')"
   ]
  },
  {
   "cell_type": "code",
   "execution_count": 13,
   "id": "computational-salmon",
   "metadata": {},
   "outputs": [
    {
     "name": "stdout",
     "output_type": "stream",
     "text": [
      "Несмещенная коррелиация Пирсона: 0.88749009207411\n",
      "Cмещенная коррелиация Пирсона: 0.8874900920739158\n",
      "коррелиация Пирсона: [[1.         0.88749009]\n",
      " [0.88749009 1.        ]]\n"
     ]
    }
   ],
   "source": [
    "print(f'Несмещенная коррелиация Пирсона: {10175.37777778/(np.std(zp, ddof=1)*np.std(ks, ddof=1))}')\n",
    "print(f'Cмещенная коррелиация Пирсона: {9157.839999999997/(np.std(zp, ddof=0)*np.std(ks, ddof=0))}')\n",
    "print(f'коррелиация Пирсона: {np.corrcoef(zp, ks)}')"
   ]
  },
  {
   "cell_type": "code",
   "execution_count": 18,
   "id": "active-memorabilia",
   "metadata": {},
   "outputs": [
    {
     "name": "stdout",
     "output_type": "stream",
     "text": [
      "(110.55660776308164, 125.64339223691834]\n"
     ]
    }
   ],
   "source": [
    "# 2. Измерены значения IQ выборки студентов,\n",
    "# обучающихся в местных технических вузах:\n",
    "# 131, 125, 115, 122, 131, 115, 107, 99, 125, 111.\n",
    "# Известно, что в генеральной совокупности IQ распределен нормально.\n",
    "# Найдите доверительный интервал для математического ожидания с надежностью 0.95.\n",
    "\n",
    "iq = np.array([131, 125, 115, 122, 131, 115, 107, 99, 125, 111])\n",
    "sigma = np.std(iq, ddof=1)\n",
    "print(f'({np.mean(iq) - 2.262*sigma/(len(iq)**0.5)}, {np.mean(iq) + 2.262*sigma/(len(iq)**0.5)}]')"
   ]
  },
  {
   "cell_type": "code",
   "execution_count": 15,
   "id": "rough-recovery",
   "metadata": {},
   "outputs": [
    {
     "name": "stdout",
     "output_type": "stream",
     "text": [
      "(172.31398912064722, 176.08601087935276]\n"
     ]
    }
   ],
   "source": [
    "# 3. Известно, что рост футболистов в сборной распределен нормально\n",
    "# с дисперсией генеральной совокупности, равной 25 кв.см. Объем выборки равен 27,\n",
    "# среднее выборочное составляет 174.2. Найдите доверительный интервал для математического\n",
    "# ожидания с надежностью 0.95.\n",
    "\n",
    "print(f'({174.2 - 1.96*5/(27**0.5)}, {174.2 + 1.96*5/(27**0.5)}]')"
   ]
  },
  {
   "cell_type": "code",
   "execution_count": null,
   "id": "persistent-grounds",
   "metadata": {},
   "outputs": [],
   "source": []
  }
 ],
 "metadata": {
  "kernelspec": {
   "display_name": "Python 3",
   "language": "python",
   "name": "python3"
  },
  "language_info": {
   "codemirror_mode": {
    "name": "ipython",
    "version": 3
   },
   "file_extension": ".py",
   "mimetype": "text/x-python",
   "name": "python",
   "nbconvert_exporter": "python",
   "pygments_lexer": "ipython3",
   "version": "3.6.13"
  }
 },
 "nbformat": 4,
 "nbformat_minor": 5
}
