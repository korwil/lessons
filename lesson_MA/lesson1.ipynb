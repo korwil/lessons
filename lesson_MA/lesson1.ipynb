{
 "cells": [
  {
   "cell_type": "markdown",
   "metadata": {},
   "source": [
    "a) для любого У принадлежащим интервалу от 0(включительно) до 1(включительно), функция сигнум у = 1 (False)\n",
    "$$\\forall y\\in[0,1]\\, : \\, sgn(y) = 1$$\n",
    "Отрицание: $$\\exists y\\in[0,1]\\, : \\, sgn(y) \\not= 1 $$\n",
    "b) для любого N принадлежащего множеству натуральных чисел больше 2, существует x,y,z принадлежащих множеству нотуральных чисел, где х в степени N равен y в степени N плюс z в степени N (True)\n",
    "$$\\forall n\\in\\mathbb {N} > 2\\, : \\exists x, y, z\\in\\mathbb {N} : \\, x^n = y^n + z^n$$\n",
    "Отрицание\n",
    "$$\\exists n\\in\\mathbb {N} <= 2\\, : \\forall x, y, z\\in\\mathbb {N} : \\, x^n \\not= y^n + z^n$$\n",
    "c) Для любых х принадлежащих множеству вещественных(действительных) цисел, существует Х принадлежащий множеству вещественных(действительных) чисел, где X > x (True)\n",
    "$$\\forall x\\in\\mathbb {R}\\, : \\exists X\\in\\mathbb {R} : \\, X > x$$\n",
    "Отрицание\n",
    "$$\\exists x\\in\\mathbb {R}\\, : \\forall X\\in\\mathbb {R} : \\, X <= x$$\n",
    "d) Для любого х принадлежащих множеству комплексных чисел, не существует у, принадлежащих к множеству комплексных чисел, где x больше у или х меньше у (False)\n",
    "$$\\forall x\\in\\mathbb {C}\\, : \\not\\exists y\\in\\mathbb {C} : \\, x > y||x < y$$\n",
    "Отрицание:\n",
    "$$\\exists x\\in\\mathbb {C}\\, : \\exists y\\in\\mathbb {C} : \\, x <= y||x >= y$$\n",
    "e) Для любого у принадлежащим интервалу от 0(включительно) до пи на 2(включительно) существует эпсилон больше 0, где синус от у меньше синуса от у плюс эпсилон (True)\n",
    "$$\\forall y\\in \\Bigl[0; \\frac{\\pi}{2}\\Bigr]\\, : \\exists \\varepsilon > 0 : \\sin y < \\sin(y + \\varepsilon)$$\n",
    "Отрицание:\n",
    "$$\\exists y\\in \\Bigl[0; \\frac{\\pi}{2}\\Bigr]\\, \\forall \\varepsilon <= 0 : \\sin y >= \\sin(y + \\varepsilon)$$\n",
    "f) Для любого у принадлежащим интервалу от 0(включительно) до пи, существует эпсилон больше 0, где крсинус от у больше косинуса от у плюс эпсилон (True)\n",
    "$$\\forall y\\in[0; \\pi)\\,\\,\\,\\exists \\varepsilon > 0:\\,\\,\\, \\cos y>\\cos(y+\\varepsilon).$$\n",
    "Отрицание:\n",
    "$$\\exists y\\in[0; \\pi)\\,\\,\\,\\forall \\varepsilon <= 0:\\,\\,\\, \\cos y<=\\cos(y+\\varepsilon).$$\n",
    "g) Существует х, которое не принадлежит множеству, комплексных, аещественных(действительных), рациональных, целых, натуральных чисел (True)\n",
    "$$\\exists x : x \\notin \\{\\mathbb {N},\\mathbb {Z},\\mathbb {Q},\\mathbb {R},\\mathbb {C}\\}$$\n",
    "Отрицание\n",
    "$$\\forall x : x \\notin \\{\\mathbb {N},\\mathbb {Z},\\mathbb {Q},\\mathbb {R},\\mathbb {C}\\}$$\n"
   ]
  },
  {
   "cell_type": "code",
   "execution_count": 2,
   "metadata": {},
   "outputs": [
    {
     "name": "stdout",
     "output_type": "stream",
     "text": [
      "Множества:\n",
      "A: {33, 2, 3, 6, 8, 43, 12, 45, 11, 25}\n",
      "B: {3, 12, 38, 15}\n",
      "Объединение A | B: {33, 2, 3, 6, 38, 8, 43, 12, 45, 11, 15, 25}\n",
      "Пересечение A & B: {3, 12}\n",
      "Разность A - B: {33, 2, 6, 8, 43, 11, 45, 25}\n",
      "Симметрическая разность A ^ B: {33, 2, 38, 6, 8, 43, 11, 45, 15, 25}\n",
      "Множества:\n",
      "A: {33, 2, 3, 6, 8, 43, 12, 45, 11, 25}\n",
      "C: {35, 38, 41, 9, 12, 44, 48, 50, 27, 30}\n",
      "Объединение A | C: {33, 2, 3, 35, 6, 38, 8, 41, 9, 43, 12, 45, 11, 44, 48, 50, 25, 27, 30}\n",
      "Пересечение A & C: {12}\n",
      "Разность A - C: {33, 2, 3, 6, 8, 43, 11, 45, 25}\n",
      "Симметрическая разность A ^ C: {33, 2, 35, 3, 38, 6, 8, 41, 9, 43, 11, 44, 45, 48, 50, 25, 27, 30}\n",
      "Множества:\n",
      "B: {3, 12, 38, 15}\n",
      "C: {35, 38, 41, 9, 12, 44, 48, 50, 27, 30}\n",
      "Объединение B | C: {3, 35, 38, 41, 9, 12, 44, 15, 48, 50, 27, 30}\n",
      "Пересечение B & C: {12, 38}\n",
      "Разность B - C: {3, 15}\n",
      "Симметрическая разность B ^ C: {35, 3, 41, 9, 44, 15, 48, 50, 27, 30}\n"
     ]
    }
   ],
   "source": [
    "import itertools\n",
    "import random\n",
    "\n",
    "a = {random.randint(0, 50) for _ in range(10)}\n",
    "b = {random.randint(-10, 40) for _ in range(random.randint(4, 10))}\n",
    "c = {random.randint(0, 50) for _ in range(random.randint(4, 10))}\n",
    "\n",
    "my_dict = {\n",
    "    'A': a,\n",
    "    'B': b,\n",
    "    'C': c\n",
    "}\n",
    "\n",
    "\n",
    "for comb in itertools.combinations(my_dict.keys(), 2):\n",
    "    x, y = comb[0], comb[1]\n",
    "    print(f'Множества:')\n",
    "    print(f'{x}: {my_dict[x]}')\n",
    "    print(f'{y}: {my_dict[y]}')\n",
    "    print(f'Объединение {x} | {y}: {my_dict[x] | my_dict[y]}')\n",
    "    print(f'Пересечение {x} & {y}: {my_dict[x] & my_dict[y]}')\n",
    "    print(f'Разность {x} - {y}: {my_dict[x] - my_dict[y]}')\n",
    "    print(f'Симметрическая разность {x} ^ {y}: {my_dict[x] ^ my_dict[y]}')"
   ]
  },
  {
   "cell_type": "code",
   "execution_count": null,
   "metadata": {},
   "outputs": [],
   "source": []
  }
 ],
 "metadata": {
  "kernelspec": {
   "display_name": "Python 3",
   "language": "python",
   "name": "python3"
  },
  "language_info": {
   "codemirror_mode": {
    "name": "ipython",
    "version": 3
   },
   "file_extension": ".py",
   "mimetype": "text/x-python",
   "name": "python",
   "nbconvert_exporter": "python",
   "pygments_lexer": "ipython3",
   "version": "3.6.11"
  }
 },
 "nbformat": 4,
 "nbformat_minor": 4
}
