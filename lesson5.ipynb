{
 "cells": [
  {
   "cell_type": "code",
   "execution_count": 17,
   "metadata": {},
   "outputs": [],
   "source": [
    "%matplotlib inline\n",
    "import numpy as np\n",
    "import matplotlib.pyplot as plt\n",
    "import matplotlib.mlab as mlab"
   ]
  },
  {
   "cell_type": "code",
   "execution_count": 21,
   "metadata": {},
   "outputs": [
    {
     "name": "stdout",
     "output_type": "stream",
     "text": [
      "\n",
      "29.214840810626377\n",
      "черное\n",
      "\n",
      "29.024493848783443\n",
      "черное\n",
      "\n",
      "14.01281077086608\n",
      "красное\n",
      "\n",
      "28.51431292064698\n",
      "черное\n",
      "\n",
      "18.696761964364324\n",
      "красное\n"
     ]
    }
   ],
   "source": [
    "## 1-е задание\n",
    "for i in range(0, 5):\n",
    "    a = input()\n",
    "    x = np.random.uniform(0, 37)\n",
    "    print(x)\n",
    "    if x < 1:\n",
    "        print(\"zero\")\n",
    "    elif 1<=x<19:\n",
    "        print(\"красное\")\n",
    "    else:\n",
    "        print(\"черное\")\n",
    "        "
   ]
  },
  {
   "cell_type": "code",
   "execution_count": 20,
   "metadata": {},
   "outputs": [
    {
     "name": "stdout",
     "output_type": "stream",
     "text": [
      "2674 48675 48651\n",
      "Сумма вероятностей =  1.0\n"
     ]
    }
   ],
   "source": [
    "## 2.а задание\n",
    "n = 100000\n",
    "\n",
    "z,r,b = 0,0,0\n",
    "for i in range(0, n):\n",
    "    x = np.random.uniform(0, 37)\n",
    "    if x < 1:\n",
    "       z += 1\n",
    "    elif 1<=x<19:\n",
    "       r +=1\n",
    "    else:\n",
    "       b +=1\n",
    "print(z,r,b)    \n",
    "print(\"Сумма вероятностей = \",z/n+r/n+b/n)  # cсумма вероятностей = 1  "
   ]
  },
  {
   "cell_type": "code",
   "execution_count": 22,
   "metadata": {},
   "outputs": [
    {
     "name": "stdout",
     "output_type": "stream",
     "text": [
      "[5.6017849014430565, 5.042600207523271, 5.463652803406903, 5.701729731599052, 6.977506722161149, 5.338449738687266, 5.185432617344886, 5.075201981825333, 4.299881826764349, 5.560748538738821]\n"
     ]
    },
    {
     "data": {
      "text/plain": [
       "Text(0.5, 1.0, 'Histogram')"
      ]
     },
     "execution_count": 22,
     "metadata": {},
     "output_type": "execute_result"
    },
    {
     "data": {
      "image/png": "[encoded data removed]",
      "text/plain": [
       "<Figure size 432x288 with 1 Axes>"
      ]
     },
     "metadata": {
      "needs_background": "light"
     },
     "output_type": "display_data"
    }
   ],
   "source": [
    "## 2.б задание\n",
    "n = 10\n",
    "a = []\n",
    "for i in range(0, n):\n",
    " x = np.random.rand(10)\n",
    " a.append(sum(x))\n",
    " \n",
    "print(a)\n",
    "num_bins = 5\n",
    "n, bins, patches = plt.hist(a,num_bins)\n",
    "plt.xlabel('x')\n",
    "plt.ylabel('Probability')\n",
    "plt.title('Histogram')"
   ]
  },
  {
   "cell_type": "code",
   "execution_count": 26,
   "metadata": {},
   "outputs": [
    {
     "name": "stdout",
     "output_type": "stream",
     "text": [
      "3757 10000 0.3757\n",
      "через биномиальное распределение: 0.375\n"
     ]
    }
   ],
   "source": [
    "## 3.а задание\n",
    "import math\n",
    "import itertools\n",
    "\n",
    "k, n = 0, 10000\n",
    "a = np.random.randint(0, 2, n)\n",
    "b = np.random.randint(0, 2, n)\n",
    "c = np.random.randint(0, 2, n)\n",
    "d = np.random.randint(0, 2, n)\n",
    "x = a + b + c + d\n",
    "for i in range(0, n):\n",
    "    if x[i] == 2:\n",
    "        k = k + 1\n",
    "#print(a, b, c, d)\n",
    "#print(x)\n",
    "print(k, n, k/n)\n",
    "\n",
    "n1 = 4\n",
    "k1 = 2\n",
    "p = (math.factorial(n1)/(math.factorial(k1)*math.factorial(n1-k1)))*1/(2**n1)\n",
    "print(\"через биномиальное распределение:\", p)"
   ]
  },
  {
   "cell_type": "code",
   "execution_count": 28,
   "metadata": {},
   "outputs": [
    {
     "name": "stdout",
     "output_type": "stream",
     "text": [
      "1183 10000 0.1183\n",
      "0.125\n"
     ]
    }
   ],
   "source": [
    "## 3.б задание\n",
    "k, n = 0, 10000\n",
    "a = np.random.randint(0, 2, n)\n",
    "b = np.random.randint(0, 2, n)\n",
    "c = np.random.randint(0, 2, n)\n",
    "\n",
    "x = a + b + c\n",
    "n1=3 # количество испытаний\n",
    "k1=3 # 3 успеха в 3-х испытаниях\n",
    "for i in range(0, n):\n",
    "    if x[i] == k1:\n",
    "        k = k + 1\n",
    "# print(a, b, c)\n",
    "# print(x)\n",
    "print(k, n, k/n)\n",
    "\n",
    "p = (math.factorial(n1)/(math.factorial(k1)*math.factorial(n1-k1)))*1/(2**n1)\n",
    "print(p)"
   ]
  },
  {
   "cell_type": "code",
   "execution_count": 30,
   "metadata": {},
   "outputs": [
    {
     "name": "stdout",
     "output_type": "stream",
     "text": [
      "120\n"
     ]
    }
   ],
   "source": [
    "## 4-е задание\n",
    "len = 0\n",
    "\n",
    "for p in itertools.permutations(\"012345\",3):\n",
    "    len += 1\n",
    "    print(''.join(str(x) for x in p))\n",
    "print(len)\n",
    "а = 6*5*4"
   ]
  },
  {
   "cell_type": "code",
   "execution_count": 31,
   "metadata": {},
   "outputs": [
    {
     "name": "stdout",
     "output_type": "stream",
     "text": [
      "0123\n",
      "0124\n",
      "0125\n",
      "0134\n",
      "0135\n",
      "0145\n",
      "0234\n",
      "0235\n",
      "0245\n",
      "0345\n",
      "1234\n",
      "1235\n",
      "1245\n",
      "1345\n",
      "2345\n",
      "15\n",
      "15.0\n"
     ]
    }
   ],
   "source": [
    "## 4-е задание\n",
    "len = 0\n",
    "for p in itertools.combinations(\"012345\",4):\n",
    "    len += 1\n",
    "    print(''.join(p))\n",
    "    \n",
    "print (len)\n",
    "n1 = 6\n",
    "k1 = 4\n",
    "p = (math.factorial(n1)/(math.factorial(k1)*math.factorial(n1-k1)))\n",
    "print(p)"
   ]
  },
  {
   "cell_type": "code",
   "execution_count": 34,
   "metadata": {},
   "outputs": [
    {
     "name": "stdout",
     "output_type": "stream",
     "text": [
      "расчет по формуле 0.9083550563697166\n",
      "расчет внутренней библиотекой [[1.         0.90835506]\n",
      " [0.90835506 1.        ]]\n"
     ]
    },
    {
     "data": {
      "image/png": "[encoded data removed]",
      "text/plain": [
       "<Figure size 432x288 with 1 Axes>"
      ]
     },
     "metadata": {
      "needs_background": "light"
     },
     "output_type": "display_data"
    }
   ],
   "source": [
    "#### 5-е задание\n",
    "%matplotlib inline\n",
    "import numpy as np\n",
    "import matplotlib.pyplot as plt\n",
    "\n",
    "n = 100\n",
    "r = 0.7\n",
    "x = np.random.rand(n)\n",
    "y = r*x + (1 - r)*np.random.rand(n)\n",
    "plt.plot(x, y, 'o')\n",
    "plt.xlabel('x')\n",
    "plt.ylabel('y')\n",
    "plt.grid(True)\n",
    "\n",
    "# a = (np.sum(x)*np.sum(y) - n*np.sum(x*y))/(np.sum(x)*np.sum(x) - n*np.sum(x*x))\n",
    "# b = (np.sum(y) - a*np.sum(x))/n\n",
    "\n",
    "# A = np.vstack([x, np.ones(len(x))]).T\n",
    "# a1, b1 = np.linalg.lstsq(A, y)[0]\n",
    "# print(a, b)\n",
    "# print(a1, b1)\n",
    "# plt.plot([0, 1], [b, a + b])\n",
    "# plt.show()\n",
    "\n",
    "### correlation\n",
    "\n",
    "xm = np.sum(x)/n\n",
    "ym = np.sum(y)/n\n",
    "\n",
    "cor = np.sum((x-xm)*(y-ym))/(np.sum((x-xm)**2)*np.sum(((y-ym)**2)))**.5\n",
    "\n",
    "print('расчет по формуле', cor)\n",
    "print('расчет внутренней библиотекой', np.corrcoef(x, y))"
   ]
  },
  {
   "cell_type": "code",
   "execution_count": null,
   "metadata": {},
   "outputs": [],
   "source": []
  }
 ],
 "metadata": {
  "kernelspec": {
   "display_name": "Python 3",
   "language": "python",
   "name": "python3"
  },
  "language_info": {
   "codemirror_mode": {
    "name": "ipython",
    "version": 3
   },
   "file_extension": ".py",
   "mimetype": "text/x-python",
   "name": "python",
   "nbconvert_exporter": "python",
   "pygments_lexer": "ipython3",
   "version": "3.6.11"
  }
 },
 "nbformat": 4,
 "nbformat_minor": 4
}
